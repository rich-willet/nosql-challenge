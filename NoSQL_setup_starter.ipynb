{
 "cells": [
  {
   "cell_type": "markdown",
   "id": "9a57c4c6",
   "metadata": {},
   "source": [
    "# Eat Safe, Love"
   ]
  },
  {
   "cell_type": "markdown",
   "id": "064ef857",
   "metadata": {},
   "source": [
    "## Part 1: Database and Jupyter Notebook Set Up"
   ]
  },
  {
   "cell_type": "markdown",
   "id": "664e3c1f",
   "metadata": {},
   "source": [
    "Import the data provided in the `establishments.json` file from your Terminal. Name the database `uk_food` and the collection `establishments`.\n",
    "\n",
    "Within this markdown cell, copy the line of text you used to import the data from your Terminal. This way, future analysts will be able to repeat your process.\n",
    "\n",
    "e.g.: Import the dataset with `YOUR IMPORT TEXT HERE`"
   ]
  },
  {
   "cell_type": "code",
   "execution_count": 61,
   "id": "3ecdd008",
   "metadata": {},
   "outputs": [],
   "source": [
    "# Import dependencies\n",
    "from pymongo import MongoClient\n",
    "from pprint import pprint"
   ]
  },
  {
   "cell_type": "code",
   "execution_count": 62,
   "id": "59390c4a",
   "metadata": {},
   "outputs": [],
   "source": [
    "# Create an instance of MongoClient\n",
    "mongo = MongoClient(port=27017)\n"
   ]
  },
  {
   "cell_type": "code",
   "execution_count": 63,
   "id": "7f9ececa",
   "metadata": {},
   "outputs": [
    {
     "name": "stdout",
     "output_type": "stream",
     "text": [
      "['Classdb', 'admin', 'autosaurus', 'config', 'epa', 'fruits_db', 'gardenDB', 'local', 'met', 'petsitly_marketing', 'travelDB', 'uk_food']\n"
     ]
    }
   ],
   "source": [
    "# confirm that our new database was created\n",
    "print(mongo.list_database_names())\n"
   ]
  },
  {
   "cell_type": "code",
   "execution_count": 64,
   "id": "71e373c1",
   "metadata": {},
   "outputs": [],
   "source": [
    "# assign the uk_food database to a variable name\n",
    "db = mongo['uk_food']\n"
   ]
  },
  {
   "cell_type": "code",
   "execution_count": 65,
   "id": "ef1b89ed",
   "metadata": {},
   "outputs": [
    {
     "name": "stdout",
     "output_type": "stream",
     "text": [
      "['establishments', 'customers']\n"
     ]
    }
   ],
   "source": [
    "# review the collections in our new database\n",
    "print(db.list_collection_names())\n"
   ]
  },
  {
   "cell_type": "code",
   "execution_count": 66,
   "id": "6a0d92df",
   "metadata": {},
   "outputs": [
    {
     "name": "stdout",
     "output_type": "stream",
     "text": [
      "{'AddressLine1': 'East Cliff Pavilion',\n",
      " 'AddressLine2': 'Wear Bay Road',\n",
      " 'AddressLine3': 'Folkestone',\n",
      " 'AddressLine4': 'Kent',\n",
      " 'BusinessName': 'The Pavilion',\n",
      " 'BusinessType': 'Restaurant/Cafe/Canteen',\n",
      " 'BusinessTypeID': 1,\n",
      " 'ChangesByServerID': 0,\n",
      " 'Distance': 4591.765489457773,\n",
      " 'FHRSID': 1043695,\n",
      " 'LocalAuthorityBusinessID': 'PI/000073616',\n",
      " 'LocalAuthorityCode': '188',\n",
      " 'LocalAuthorityEmailAddress': 'foodteam@folkestone-hythe.gov.uk',\n",
      " 'LocalAuthorityName': 'Folkestone and Hythe',\n",
      " 'LocalAuthorityWebSite': 'http://www.folkestone-hythe.gov.uk',\n",
      " 'NewRatingPending': False,\n",
      " 'Phone': '',\n",
      " 'PostCode': 'CT19 6BL',\n",
      " 'RatingDate': '2018-04-04T00:00:00',\n",
      " 'RatingKey': 'fhrs_5_en-gb',\n",
      " 'RatingValue': {'$convert': {'input': '$RatingValue',\n",
      "                              'onError': None,\n",
      "                              'to': 'int'}},\n",
      " 'RightToReply': '',\n",
      " 'SchemeType': 'FHRS',\n",
      " '_id': ObjectId('6743fb75f5c1cf63a827db1f'),\n",
      " 'geocode': {'latitude': {'$convert': {'input': '$geocode.latitude',\n",
      "                                       'onError': None,\n",
      "                                       'to': 'double'}},\n",
      "             'longitude': {'$convert': {'input': '$geocode.longitude',\n",
      "                                        'onError': None,\n",
      "                                        'to': 'double'}}},\n",
      " 'links': [{'href': 'https://api.ratings.food.gov.uk/establishments/1043695',\n",
      "            'rel': 'self'}],\n",
      " 'meta': {'dataSource': None,\n",
      "          'extractDate': '0001-01-01T00:00:00',\n",
      "          'itemCount': 0,\n",
      "          'pageNumber': 0,\n",
      "          'pageSize': 0,\n",
      "          'returncode': None,\n",
      "          'totalCount': 0,\n",
      "          'totalPages': 0},\n",
      " 'scores': {'ConfidenceInManagement': 5, 'Hygiene': 5, 'Structural': 5}}\n"
     ]
    }
   ],
   "source": [
    "# assign the collection to a variable\n",
    "establishments_collection = db['establishments']\n",
    "\n",
    "# review a document in the establishments collection\n",
    "document = establishments_collection.find_one()\n",
    "pprint(document)"
   ]
  },
  {
   "cell_type": "code",
   "execution_count": 67,
   "id": "11c9f11b",
   "metadata": {},
   "outputs": [
    {
     "name": "stdout",
     "output_type": "stream",
     "text": [
      "Number of documents in the establishments collection: 38787\n"
     ]
    }
   ],
   "source": [
    "# assign the collection to a variable\n",
    "establishments_collection = db['establishments']\n",
    "print(\"Number of documents in the establishments collection:\", establishments_collection.count_documents({}))"
   ]
  },
  {
   "cell_type": "markdown",
   "id": "d5671434",
   "metadata": {},
   "source": [
    "## Part 2: Update the Database"
   ]
  },
  {
   "cell_type": "markdown",
   "id": "314bd884",
   "metadata": {},
   "source": [
    "1. An exciting new halal restaurant just opened in Greenwich, but hasn't been rated yet. The magazine has asked you to include it in your analysis. Add the following restaurant \"Penang Flavours\" to the database."
   ]
  },
  {
   "cell_type": "code",
   "execution_count": 68,
   "id": "c2da7648",
   "metadata": {},
   "outputs": [
    {
     "name": "stdout",
     "output_type": "stream",
     "text": [
      "{'AddressLine1': 'Penang Flavours',\n",
      " 'AddressLine2': '146A Plumstead Rd',\n",
      " 'AddressLine3': 'London',\n",
      " 'AddressLine4': '',\n",
      " 'BusinessName': 'Penang Flavours',\n",
      " 'BusinessType': 'Restaurant/Cafe/Canteen',\n",
      " 'BusinessTypeID': None,\n",
      " 'Distance': 4623.972328074718,\n",
      " 'LocalAuthorityCode': '511',\n",
      " 'LocalAuthorityEmailAddress': 'health@royalgreenwich.gov.uk',\n",
      " 'LocalAuthorityName': 'Greenwich',\n",
      " 'LocalAuthorityWebSite': 'http://www.royalgreenwich.gov.uk',\n",
      " 'NewRatingPending': True,\n",
      " 'Phone': None,\n",
      " 'PostCode': 'SE18 7DY',\n",
      " 'RightToReply': '',\n",
      " 'SchemeType': 'FHRS',\n",
      " 'geocode': {'latitude': 51.490142, 'longitude': 0.08384},\n",
      " 'scores': {'ConfidenceInManagement': None,\n",
      "            'Hygiene': None,\n",
      "            'Structural': None}}\n"
     ]
    }
   ],
   "source": [
    "# Create a dictionary for the new restaurant data\n",
    "# Define the new restaurant data as a dictionary\n",
    "penang_flavours = {\n",
    "    \"BusinessName\": \"Penang Flavours\",\n",
    "    \"BusinessType\": \"Restaurant/Cafe/Canteen\",\n",
    "    \"BusinessTypeID\": None,  # Placeholder, will update later\n",
    "    \"AddressLine1\": \"Penang Flavours\",\n",
    "    \"AddressLine2\": \"146A Plumstead Rd\",\n",
    "    \"AddressLine3\": \"London\",\n",
    "    \"AddressLine4\": \"\",\n",
    "    \"PostCode\": \"SE18 7DY\",\n",
    "    \"Phone\": None,\n",
    "    \"LocalAuthorityCode\": \"511\",\n",
    "    \"LocalAuthorityName\": \"Greenwich\",\n",
    "    \"LocalAuthorityWebSite\": \"http://www.royalgreenwich.gov.uk\",\n",
    "    \"LocalAuthorityEmailAddress\": \"health@royalgreenwich.gov.uk\",\n",
    "    \"scores\": {\n",
    "        \"Hygiene\": None,\n",
    "        \"Structural\": None,\n",
    "        \"ConfidenceInManagement\": None\n",
    "    },\n",
    "    \"SchemeType\": \"FHRS\",\n",
    "    \"geocode\": {\n",
    "        \"longitude\": 0.08384000,\n",
    "        \"latitude\": 51.49014200\n",
    "    },\n",
    "    \"RightToReply\": \"\",\n",
    "    \"Distance\": 4623.9723280747176,\n",
    "    \"NewRatingPending\": True\n",
    "}\n",
    "\n",
    "# Print the dictionary to verify its structure\n",
    "from pprint import pprint\n",
    "pprint(penang_flavours)\n",
    "\n",
    "\n"
   ]
  },
  {
   "cell_type": "code",
   "execution_count": 69,
   "id": "a6e5cece",
   "metadata": {},
   "outputs": [
    {
     "name": "stdout",
     "output_type": "stream",
     "text": [
      "Inserted document ID: 6743ff865a11a1a5e7737f44\n"
     ]
    }
   ],
   "source": [
    "# Insert the new restaurant into the collection\n",
    "result = establishments_collection.insert_one(penang_flavours)\n",
    "print(\"Inserted document ID:\", result.inserted_id)\n",
    "\n",
    "\n",
    "\n"
   ]
  },
  {
   "cell_type": "code",
   "execution_count": 70,
   "id": "63bb10f9",
   "metadata": {},
   "outputs": [
    {
     "name": "stdout",
     "output_type": "stream",
     "text": [
      "{'AddressLine1': 'Penang Flavours',\n",
      " 'AddressLine2': '146A Plumstead Rd',\n",
      " 'AddressLine3': 'London',\n",
      " 'AddressLine4': '',\n",
      " 'BusinessName': 'Penang Flavours',\n",
      " 'BusinessType': 'Restaurant/Cafe/Canteen',\n",
      " 'BusinessTypeID': '1',\n",
      " 'Distance': 4623.972328074718,\n",
      " 'LocalAuthorityCode': '511',\n",
      " 'LocalAuthorityEmailAddress': 'health@royalgreenwich.gov.uk',\n",
      " 'LocalAuthorityName': 'Greenwich',\n",
      " 'LocalAuthorityWebSite': 'http://www.royalgreenwich.gov.uk',\n",
      " 'NewRatingPending': True,\n",
      " 'Phone': None,\n",
      " 'PostCode': 'SE18 7DY',\n",
      " 'RightToReply': '',\n",
      " 'SchemeType': 'FHRS',\n",
      " '_id': ObjectId('6743fb955a11a1a5e7737f40'),\n",
      " 'geocode': {'latitude': 51.490142, 'longitude': 0.08384},\n",
      " 'scores': {'ConfidenceInManagement': None,\n",
      "            'Hygiene': None,\n",
      "            'Structural': None}}\n"
     ]
    }
   ],
   "source": [
    "# Check that the new restaurant was inserted\n",
    "\n",
    "pprint(establishments_collection.find_one({\"BusinessName\": \"Penang Flavours\"}))\n",
    "\n"
   ]
  },
  {
   "cell_type": "markdown",
   "id": "0ef4395a",
   "metadata": {},
   "source": [
    "2. Find the BusinessTypeID for \"Restaurant/Cafe/Canteen\" and return only the `BusinessTypeID` and `BusinessType` fields."
   ]
  },
  {
   "cell_type": "code",
   "execution_count": 71,
   "id": "93c63829",
   "metadata": {},
   "outputs": [
    {
     "name": "stdout",
     "output_type": "stream",
     "text": [
      "{'BusinessType': 'Restaurant/Cafe/Canteen', 'BusinessTypeID': 1}\n"
     ]
    }
   ],
   "source": [
    "# Find the BusinessTypeID for \"Restaurant/Cafe/Canteen\" and return only the BusinessTypeID and BusinessType fields\n",
    "\n",
    "query = {\"BusinessType\": \"Restaurant/Cafe/Canteen\"}\n",
    "fields = {\"BusinessType\": 1, \"BusinessTypeID\": 1, \"_id\": 0}  # Project only BusinessType and BusinessTypeID\n",
    "# Execute the query\n",
    "result = establishments_collection.find_one(query, fields)\n",
    "\n",
    "# Print the result\n",
    "from pprint import pprint\n",
    "pprint(result)\n",
    "\n",
    "\n"
   ]
  },
  {
   "cell_type": "markdown",
   "id": "4e570caf",
   "metadata": {},
   "source": [
    "3. Update the new restaurant with the `BusinessTypeID` you found."
   ]
  },
  {
   "cell_type": "code",
   "execution_count": 72,
   "id": "7f599f3d",
   "metadata": {},
   "outputs": [
    {
     "name": "stdout",
     "output_type": "stream",
     "text": [
      "{'AddressLine1': 'Penang Flavours',\n",
      " 'AddressLine2': '146A Plumstead Rd',\n",
      " 'AddressLine3': 'London',\n",
      " 'AddressLine4': '',\n",
      " 'BusinessName': 'Penang Flavours',\n",
      " 'BusinessType': 'Restaurant/Cafe/Canteen',\n",
      " 'BusinessTypeID': '1',\n",
      " 'Distance': 4623.972328074718,\n",
      " 'LocalAuthorityCode': '511',\n",
      " 'LocalAuthorityEmailAddress': 'health@royalgreenwich.gov.uk',\n",
      " 'LocalAuthorityName': 'Greenwich',\n",
      " 'LocalAuthorityWebSite': 'http://www.royalgreenwich.gov.uk',\n",
      " 'NewRatingPending': True,\n",
      " 'Phone': None,\n",
      " 'PostCode': 'SE18 7DY',\n",
      " 'RightToReply': '',\n",
      " 'SchemeType': 'FHRS',\n",
      " '_id': ObjectId('6743fb955a11a1a5e7737f40'),\n",
      " 'geocode': {'latitude': 51.490142, 'longitude': 0.08384},\n",
      " 'scores': {'ConfidenceInManagement': None,\n",
      "            'Hygiene': None,\n",
      "            'Structural': None}}\n"
     ]
    }
   ],
   "source": [
    "# Update the new restaurant with the correct BusinessTypeID\n",
    "# Update the 'Penang Flavours' restaurant with the correct BusinessTypeID\n",
    "establishments_collection.update_one(\n",
    "    {\"BusinessName\": \"Penang Flavours\"},  # Match the new restaurant by its name\n",
    "    {\"$set\": {\"BusinessTypeID\": \"1\"}}  # Set the BusinessTypeID to \"1\"\n",
    ")\n",
    "\n",
    "# Check that the update was successful\n",
    "pprint(establishments_collection.find_one({\"BusinessName\": \"Penang Flavours\"}))\n",
    "\n"
   ]
  },
  {
   "cell_type": "code",
   "execution_count": 73,
   "id": "a6ad16f7",
   "metadata": {},
   "outputs": [
    {
     "name": "stdout",
     "output_type": "stream",
     "text": [
      "{'AddressLine1': 'Penang Flavours',\n",
      " 'AddressLine2': '146A Plumstead Rd',\n",
      " 'AddressLine3': 'London',\n",
      " 'AddressLine4': '',\n",
      " 'BusinessName': 'Penang Flavours',\n",
      " 'BusinessType': 'Restaurant/Cafe/Canteen',\n",
      " 'BusinessTypeID': '1',\n",
      " 'Distance': 4623.972328074718,\n",
      " 'LocalAuthorityCode': '511',\n",
      " 'LocalAuthorityEmailAddress': 'health@royalgreenwich.gov.uk',\n",
      " 'LocalAuthorityName': 'Greenwich',\n",
      " 'LocalAuthorityWebSite': 'http://www.royalgreenwich.gov.uk',\n",
      " 'NewRatingPending': True,\n",
      " 'Phone': None,\n",
      " 'PostCode': 'SE18 7DY',\n",
      " 'RightToReply': '',\n",
      " 'SchemeType': 'FHRS',\n",
      " '_id': ObjectId('6743fb955a11a1a5e7737f40'),\n",
      " 'geocode': {'latitude': 51.490142, 'longitude': 0.08384},\n",
      " 'scores': {'ConfidenceInManagement': None,\n",
      "            'Hygiene': None,\n",
      "            'Structural': None}}\n"
     ]
    }
   ],
   "source": [
    "# Confirm that the new restaurant was updated\n",
    "\n",
    "updated_document = establishments_collection.find_one({\"BusinessName\": \"Penang Flavours\"})\n",
    "from pprint import pprint\n",
    "pprint(updated_document)\n",
    "\n"
   ]
  },
  {
   "cell_type": "markdown",
   "id": "67281254",
   "metadata": {},
   "source": [
    "4. The magazine is not interested in any establishments in Dover, so check how many documents contain the Dover Local Authority. Then, remove any establishments within the Dover Local Authority from the database, and check the number of documents to ensure they were deleted."
   ]
  },
  {
   "cell_type": "code",
   "execution_count": 74,
   "id": "768474a6",
   "metadata": {},
   "outputs": [
    {
     "name": "stdout",
     "output_type": "stream",
     "text": [
      "Number of documents with LocalAuthorityName as 'Dover': 0\n"
     ]
    }
   ],
   "source": [
    "# Find how many documents have LocalAuthorityName as \"Dover\"\n",
    "\n",
    "dover_count = establishments_collection.count_documents({\"LocalAuthorityName\": \"Dover\"})\n",
    "print(f\"Number of documents with LocalAuthorityName as 'Dover': {dover_count}\")\n"
   ]
  },
  {
   "cell_type": "code",
   "execution_count": 75,
   "id": "a11d5f1b",
   "metadata": {},
   "outputs": [
    {
     "name": "stdout",
     "output_type": "stream",
     "text": [
      "0\n"
     ]
    }
   ],
   "source": [
    "# Delete all documents where LocalAuthorityName is \"Dover\"\n",
    "establishments_collection.delete_many({\"LocalAuthorityName\": \"Dover\"})\n",
    "dover_count = establishments_collection.count_documents({\"LocalAuthorityName\": \"Dover\"})\n",
    "print(dover_count)\n",
    "\n"
   ]
  },
  {
   "cell_type": "code",
   "execution_count": 76,
   "id": "2a51aba0",
   "metadata": {},
   "outputs": [
    {
     "name": "stdout",
     "output_type": "stream",
     "text": [
      "None\n"
     ]
    }
   ],
   "source": [
    "# Check if any remaining documents include Dover\n",
    "print(establishments_collection.find_one({\"LocalAuthorityName\": \"Dover\"}))\n",
    "\n"
   ]
  },
  {
   "cell_type": "code",
   "execution_count": 77,
   "id": "8c356f7b",
   "metadata": {},
   "outputs": [
    {
     "name": "stdout",
     "output_type": "stream",
     "text": [
      "{'AddressLine1': 'East Cliff Pavilion',\n",
      " 'AddressLine2': 'Wear Bay Road',\n",
      " 'AddressLine3': 'Folkestone',\n",
      " 'AddressLine4': 'Kent',\n",
      " 'BusinessName': 'The Pavilion',\n",
      " 'BusinessType': 'Restaurant/Cafe/Canteen',\n",
      " 'BusinessTypeID': 1,\n",
      " 'ChangesByServerID': 0,\n",
      " 'Distance': 4591.765489457773,\n",
      " 'FHRSID': 1043695,\n",
      " 'LocalAuthorityBusinessID': 'PI/000073616',\n",
      " 'LocalAuthorityCode': '188',\n",
      " 'LocalAuthorityEmailAddress': 'foodteam@folkestone-hythe.gov.uk',\n",
      " 'LocalAuthorityName': 'Folkestone and Hythe',\n",
      " 'LocalAuthorityWebSite': 'http://www.folkestone-hythe.gov.uk',\n",
      " 'NewRatingPending': False,\n",
      " 'Phone': '',\n",
      " 'PostCode': 'CT19 6BL',\n",
      " 'RatingDate': '2018-04-04T00:00:00',\n",
      " 'RatingKey': 'fhrs_5_en-gb',\n",
      " 'RatingValue': {'$convert': {'input': '$RatingValue',\n",
      "                              'onError': None,\n",
      "                              'to': 'int'}},\n",
      " 'RightToReply': '',\n",
      " 'SchemeType': 'FHRS',\n",
      " '_id': ObjectId('6743fb75f5c1cf63a827db1f'),\n",
      " 'geocode': {'latitude': {'$convert': {'input': '$geocode.latitude',\n",
      "                                       'onError': None,\n",
      "                                       'to': 'double'}},\n",
      "             'longitude': {'$convert': {'input': '$geocode.longitude',\n",
      "                                        'onError': None,\n",
      "                                        'to': 'double'}}},\n",
      " 'links': [{'href': 'https://api.ratings.food.gov.uk/establishments/1043695',\n",
      "            'rel': 'self'}],\n",
      " 'meta': {'dataSource': None,\n",
      "          'extractDate': '0001-01-01T00:00:00',\n",
      "          'itemCount': 0,\n",
      "          'pageNumber': 0,\n",
      "          'pageSize': 0,\n",
      "          'returncode': None,\n",
      "          'totalCount': 0,\n",
      "          'totalPages': 0},\n",
      " 'scores': {'ConfidenceInManagement': 5, 'Hygiene': 5, 'Structural': 5}}\n"
     ]
    }
   ],
   "source": [
    "# Check that other documents remain with 'find_one'\n",
    "other_document = establishments_collection.find_one({\"LocalAuthorityName\": {\"$ne\": \"Dover\"}})\n",
    "\n",
    "pprint(other_document)\n"
   ]
  },
  {
   "attachments": {},
   "cell_type": "markdown",
   "id": "e9f1662d",
   "metadata": {},
   "source": [
    "5. Some of the number values are stored as strings, when they should be stored as numbers."
   ]
  },
  {
   "attachments": {},
   "cell_type": "markdown",
   "id": "c46df2df",
   "metadata": {},
   "source": [
    "Use `update_many` to convert `latitude` and `longitude` to decimal numbers."
   ]
  },
  {
   "cell_type": "code",
   "execution_count": 87,
   "id": "fd4112ce",
   "metadata": {},
   "outputs": [
    {
     "name": "stdout",
     "output_type": "stream",
     "text": [
      "Number of longitude fields updated: 0\n",
      "Number of latitude fields updated: 0\n"
     ]
    }
   ],
   "source": [
    "# Change the data type from String to Decimal for longitude and latitude\n",
    "# Update the longitude field from string to decimal\n",
    "longitude_update = establishments_collection.update_many(\n",
    "    {\"geocode.longitude\": {\"$type\": \"string\"}},  # Match documents where longitude is a string\n",
    "    {\"$set\": {\"geocode.longitude\": {\"$toDouble\": {\"input\": \"$geocode.longitude\", \"to\": \"double\", \"onError\": None}}}}\n",
    ")\n",
    "  \n",
    "# Update the latitude field from string to decimal\n",
    "latitude_update = establishments_collection.update_many(\n",
    "    {\"geocode.latitude\": {\"$type\": \"string\"}},  # Match documents where latitude is a string\n",
    "    {\"$set\": {\"geocode.latitude\": {\"$toDouble\": {\"input\": \"$geocode.latitude\", \"to\": \"double\", \"onError\": None}}}}\n",
    ")\n",
    "\n",
    "# Print the results\n",
    "print(f\"Number of longitude fields updated: {longitude_update.modified_count}\")\n",
    "print(f\"Number of latitude fields updated: {latitude_update.modified_count}\")\n",
    "\n",
    "\n"
   ]
  },
  {
   "attachments": {},
   "cell_type": "markdown",
   "id": "142e319c",
   "metadata": {},
   "source": [
    "Use `update_many` to convert `RatingValue` to integer numbers."
   ]
  },
  {
   "cell_type": "code",
   "execution_count": 90,
   "id": "04430a5b",
   "metadata": {},
   "outputs": [
    {
     "data": {
      "text/plain": [
       "UpdateResult({'n': 0, 'nModified': 0, 'ok': 1.0, 'updatedExisting': False}, acknowledged=True)"
      ]
     },
     "execution_count": 90,
     "metadata": {},
     "output_type": "execute_result"
    }
   ],
   "source": [
    "# Set non 1-5 Rating Values to Null\n",
    "# Update valid RatingValue fields to integers\n",
    "valid_query = {\"RatingValue\": {\"$in\": [\"1\", \"2\", \"3\", \"4\", \"5\"]}}\n",
    "valid_update = {\n",
    "    \"$set\": {\n",
    "        \"RatingValue\": {\n",
    "            \"$convert\": {\"input\": \"$RatingValue\", \"to\": \"int\", \"onError\": None}\n",
    "        }\n",
    "    }\n",
    "}\n",
    "\n",
    "# Perform the update\n",
    "establishments_collection.update_many(valid_query, valid_update)\n"
   ]
  },
  {
   "cell_type": "code",
   "execution_count": 91,
   "id": "92524ccc",
   "metadata": {},
   "outputs": [
    {
     "name": "stdout",
     "output_type": "stream",
     "text": [
      "Number of RatingValue fields updated: 0\n"
     ]
    }
   ],
   "source": [
    "# Change the data type from String to Integer for RatingValue\n",
    "\n",
    "rating_value_update = establishments_collection.update_many(\n",
    "    {\"RatingValue\": {\"$type\": \"string\"}},  # Match documents where RatingValue is a string\n",
    "    {\"$set\": {\"RatingValue\": {\"$convert\": {\"input\": \"$RatingValue\", \"to\": \"int\", \"onError\": None}}}}\n",
    ")\n",
    "\n",
    "# Print the results\n",
    "print(f\"Number of RatingValue fields updated: {rating_value_update.modified_count}\")\n",
    "\n"
   ]
  },
  {
   "cell_type": "code",
   "execution_count": 92,
   "id": "0deacaf9",
   "metadata": {},
   "outputs": [
    {
     "name": "stdout",
     "output_type": "stream",
     "text": [
      "Number of documents with numeric longitude: 3\n",
      "Number of documents with numeric latitude: 3\n",
      "Number of documents with numeric RatingValue: 0\n"
     ]
    }
   ],
   "source": [
    "# Check that the coordinates and rating value are now numbers\n",
    "\n",
    "# Check if longitude and latitude are numbers\n",
    "longitude_check = establishments_collection.count_documents({\"geocode.longitude\": {\"$type\": \"double\"}})\n",
    "latitude_check = establishments_collection.count_documents({\"geocode.latitude\": {\"$type\": \"double\"}})\n",
    "\n",
    "# Check if RatingValue is an integer\n",
    "rating_value_check = establishments_collection.count_documents({\"RatingValue\": {\"$type\": \"int\"}})\n",
    "\n",
    "# Print the results\n",
    "print(f\"Number of documents with numeric longitude: {longitude_check}\")\n",
    "print(f\"Number of documents with numeric latitude: {latitude_check}\")\n",
    "print(f\"Number of documents with numeric RatingValue: {rating_value_check}\")\n",
    "\n",
    "            \n",
    "\n"
   ]
  }
 ],
 "metadata": {
  "kernelspec": {
   "display_name": "Python 3 (ipykernel)",
   "language": "python",
   "name": "python3"
  },
  "language_info": {
   "codemirror_mode": {
    "name": "ipython",
    "version": 3
   },
   "file_extension": ".py",
   "mimetype": "text/x-python",
   "name": "python",
   "nbconvert_exporter": "python",
   "pygments_lexer": "ipython3",
   "version": "3.12.2"
  }
 },
 "nbformat": 4,
 "nbformat_minor": 5
}
