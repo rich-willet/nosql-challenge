{
 "cells": [
  {
   "cell_type": "code",
   "execution_count": 1,
   "metadata": {},
   "outputs": [],
   "source": [
    "import json\n",
    "\n",
    "# Load the JSON array\n",
    "file_path = '/Users/richardwillet/Desktop/nosql-challenge/Resources/establishments.json'\n",
    "with open('/Users/richardwillet/Desktop/nosql-challenge/Resources/establishments.json', 'r') as f:\n",
    "    data = json.load(f)\n",
    "\n",
    "# Write as line-delimited JSON\n",
    "with open('establishments_ld.json', 'w') as f:\n",
    "    for doc in data:\n",
    "        f.write(json.dumps(doc) + '\\n')\n",
    "\n",
    "        \n",
    "\n"
   ]
  }
 ],
 "metadata": {
  "kernelspec": {
   "display_name": "dev",
   "language": "python",
   "name": "python3"
  },
  "language_info": {
   "codemirror_mode": {
    "name": "ipython",
    "version": 3
   },
   "file_extension": ".py",
   "mimetype": "text/x-python",
   "name": "python",
   "nbconvert_exporter": "python",
   "pygments_lexer": "ipython3",
   "version": "3.12.2"
  }
 },
 "nbformat": 4,
 "nbformat_minor": 2
}
